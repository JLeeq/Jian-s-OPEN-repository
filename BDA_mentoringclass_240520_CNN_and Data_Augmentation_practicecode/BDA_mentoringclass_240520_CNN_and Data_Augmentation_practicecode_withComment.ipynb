{
 "cells": [
  {
   "cell_type": "markdown",
   "id": "27d07406",
   "metadata": {},
   "source": [
    "# 240520 BDA 멘토링클래스 실습"
   ]
  },
  {
   "cell_type": "markdown",
   "id": "f35fc37d",
   "metadata": {},
   "source": [
    "#### 필요한 Module Import 및 변수 설정"
   ]
  },
  {
   "cell_type": "code",
   "execution_count": 1,
   "id": "40c26c95",
   "metadata": {},
   "outputs": [],
   "source": [
    "''' 1. Module Import '''\n",
    "import warnings\n",
    "warnings.simplefilter('ignore')\n",
    "\n",
    "import numpy as np\n",
    "import matplotlib.pyplot as plt\n",
    "\n",
    "import torch\n",
    "import torch.nn as nn\n",
    "import torch.nn.functional as F\n",
    "from torchvision import transforms, datasets"
   ]
  },
  {
   "cell_type": "code",
   "execution_count": 2,
   "id": "fa8b8f89",
   "metadata": {},
   "outputs": [],
   "source": [
    "# Batch_Size, Train_epoch 설정\n",
    "BATCH_SIZE = 128\n",
    "TRN_EPOCHS = 10"
   ]
  },
  {
   "cell_type": "markdown",
   "id": "cc272c72",
   "metadata": {},
   "source": [
    "#### device 설정"
   ]
  },
  {
   "cell_type": "code",
   "execution_count": 3,
   "id": "41bdc0c6",
   "metadata": {},
   "outputs": [
    {
     "name": "stdout",
     "output_type": "stream",
     "text": [
      "Using PyTorch version: 1.13.0+cpu  Device: cpu\n"
     ]
    }
   ],
   "source": [
    "''' 2. 딥러닝 모델을 설계할 때 활용하는 장비 확인 '''\n",
    "if torch.cuda.is_available():\n",
    "    DEVICE = torch.device('cuda')\n",
    "else:\n",
    "    DEVICE = torch.device('cpu')\n",
    "print('Using PyTorch version:', torch.__version__, ' Device:', DEVICE)"
   ]
  },
  {
   "cell_type": "markdown",
   "id": "9adc7931",
   "metadata": {},
   "source": [
    "#### 데이터셋 다운로드 및 확인"
   ]
  },
  {
   "cell_type": "code",
   "execution_count": 3,
   "id": "52a6f777",
   "metadata": {},
   "outputs": [
    {
     "ename": "NameError",
     "evalue": "name 'datasets' is not defined",
     "output_type": "error",
     "traceback": [
      "\u001b[1;31m---------------------------------------------------------------------------\u001b[0m",
      "\u001b[1;31mNameError\u001b[0m                                 Traceback (most recent call last)",
      "Cell \u001b[1;32mIn[3], line 2\u001b[0m\n\u001b[0;32m      1\u001b[0m \u001b[38;5;124;03m''' 3. CIFAR10 데이터 다운로드(Train set, Test set 분리하기) '''\u001b[39;00m\n\u001b[1;32m----> 2\u001b[0m train_dataset \u001b[38;5;241m=\u001b[39m \u001b[43mdatasets\u001b[49m\u001b[38;5;241m.\u001b[39mCIFAR10(root \u001b[38;5;241m=\u001b[39m \u001b[38;5;124m\"\u001b[39m\u001b[38;5;124m../data/CIFAR_10\u001b[39m\u001b[38;5;124m\"\u001b[39m,\n\u001b[0;32m      3\u001b[0m                                  train \u001b[38;5;241m=\u001b[39m \u001b[38;5;28;01mTrue\u001b[39;00m,\n\u001b[0;32m      4\u001b[0m                                  download \u001b[38;5;241m=\u001b[39m \u001b[38;5;28;01mTrue\u001b[39;00m,\n\u001b[0;32m      5\u001b[0m                                  transform \u001b[38;5;241m=\u001b[39m transforms\u001b[38;5;241m.\u001b[39mToTensor()) \u001b[38;5;66;03m# 이미지를 Tensor 형태로 변환(0~1)\u001b[39;00m\n\u001b[0;32m      7\u001b[0m test_dataset \u001b[38;5;241m=\u001b[39m datasets\u001b[38;5;241m.\u001b[39mCIFAR10(root \u001b[38;5;241m=\u001b[39m \u001b[38;5;124m\"\u001b[39m\u001b[38;5;124m../data/CIFAR_10\u001b[39m\u001b[38;5;124m\"\u001b[39m,\n\u001b[0;32m      8\u001b[0m                                 train \u001b[38;5;241m=\u001b[39m \u001b[38;5;28;01mFalse\u001b[39;00m,\n\u001b[0;32m      9\u001b[0m                                 transform \u001b[38;5;241m=\u001b[39m transforms\u001b[38;5;241m.\u001b[39mToTensor())\n\u001b[0;32m     11\u001b[0m train_loader \u001b[38;5;241m=\u001b[39m torch\u001b[38;5;241m.\u001b[39mutils\u001b[38;5;241m.\u001b[39mdata\u001b[38;5;241m.\u001b[39mDataLoader(dataset \u001b[38;5;241m=\u001b[39m train_dataset,\n\u001b[0;32m     12\u001b[0m                                            batch_size \u001b[38;5;241m=\u001b[39m BATCH_SIZE,\n\u001b[0;32m     13\u001b[0m                                            shuffle \u001b[38;5;241m=\u001b[39m \u001b[38;5;28;01mTrue\u001b[39;00m)\n",
      "\u001b[1;31mNameError\u001b[0m: name 'datasets' is not defined"
     ]
    }
   ],
   "source": [
    "''' 3. CIFAR10 데이터 다운로드(Train set, Test set 분리하기) '''\n",
    "train_dataset = datasets.CIFAR10(root = \"../data/CIFAR_10\",\n",
    "                                 train = True,\n",
    "                                 download = True,\n",
    "                                 transform = transforms.ToTensor()) # 이미지를 Tensor 형태로 변환(0~1)\n",
    "\n",
    "test_dataset = datasets.CIFAR10(root = \"../data/CIFAR_10\",\n",
    "                                train = False,\n",
    "                                transform = transforms.ToTensor())\n",
    "\n",
    "train_loader = torch.utils.data.DataLoader(dataset = train_dataset,\n",
    "                                           batch_size = BATCH_SIZE,\n",
    "                                           shuffle = True)\n",
    "\n",
    "test_loader = torch.utils.data.DataLoader(dataset = test_dataset,\n",
    "                                          batch_size = BATCH_SIZE,\n",
    "                                          shuffle = False)"
   ]
  },
  {
   "cell_type": "markdown",
   "id": "db8be27b",
   "metadata": {},
   "source": [
    "------"
   ]
  },
  {
   "cell_type": "code",
   "execution_count": 6,
   "id": "beb7e12f",
   "metadata": {},
   "outputs": [
    {
     "name": "stdout",
     "output_type": "stream",
     "text": [
      "X_train: torch.Size([128, 3, 32, 32]) type: torch.FloatTensor\n",
      "y_train: torch.Size([128]) type: torch.LongTensor\n"
     ]
    }
   ],
   "source": [
    "''' 4. 데이터 확인하기 (1) '''\n",
    "for (X_train, y_train) in train_loader:\n",
    "    #train_loader object, which is typically a DataLoader in PyTorch. The DataLoader object loads batches of data from a dataset, where X_train represents the input features and y_train represents the target labels. \n",
    "    print('X_train:', X_train.size(), 'type:', X_train.type())\n",
    "    print('y_train:', y_train.size(), 'type:', y_train.type())\n",
    "    #'X_train: prints the size and data type of the input features batch X_train. (X_train의 크기와 데이터 유형을 출력)\n",
    "    #[batch size, number of channels, height, width]\n",
    "    #X_train.size(): returns the dimensions of the tensor, (텐서의 차원을 반환)\n",
    "    #X_train.type():  returns the data type of the tensor.(텐서의 데이터 유형을 반환)\n",
    "    break"
   ]
  },
  {
   "cell_type": "code",
   "execution_count": 7,
   "id": "aa2bfc48",
   "metadata": {},
   "outputs": [
    {
     "data": {
      "image/png": "[encoded data removed]",
      "text/plain": [
       "<Figure size 720x72 with 10 Axes>"
      ]
     },
     "metadata": {
      "needs_background": "light"
     },
     "output_type": "display_data"
    }
   ],
   "source": [
    "''' 5. 데이터 확인하기 (2) '''\n",
    "import os    \n",
    "os.environ['KMP_DUPLICATE_LIB_OK']='True' #특정 환경에서 라이브러리 충돌 문제를 해결하기 위한 설정\n",
    "\n",
    "pltsize = 1\n",
    "plt.figure(figsize=(10 * pltsize, pltsize))\n",
    "\n",
    "for i in range(10):\n",
    "    plt.subplot(1, 10, i + 1)\n",
    "    plt.axis('off')\n",
    "    plt.imshow(np.transpose(X_train[i], (1, 2, 0)))\n",
    "    plt.title('Class: ' + str(y_train[i].item()))"
   ]
  },
  {
   "cell_type": "markdown",
   "id": "a991cbc0",
   "metadata": {},
   "source": [
    "#### 모델 설계\n",
    "## CNN 모델 Class (1)"
   ]
  },
  {
   "cell_type": "code",
   "execution_count": 8,
   "id": "f2ba504e",
   "metadata": {},
   "outputs": [],
   "source": [
    "''' 6. Convolutional Neural Network(CNN) 모델 설계하기 (1) '''\n",
    "class CNN(nn.Module):\n",
    "    def __init__(self):\n",
    "        super(CNN, self).__init__()\n",
    "        \n",
    "        # First convolutional layer\n",
    "        #in_channels = 3: RGB color channels\n",
    "        #out_channels = 8: numbre of feature map\n",
    "        #kernel_size = 3: 3 x 3\n",
    "        #Padding: 1 (to keep the input and output dimensions the same)\n",
    "        self.conv1 = nn.Conv2d(in_channels = 3, out_channels = 8, kernel_size = 3, padding = 1)\n",
    "        \n",
    "        # Second convolutional layer\n",
    "        #Input channels: 8 (the number of output channels from conv1)\n",
    "        self.conv2 = nn.Conv2d(in_channels = 8, out_channels = 16, kernel_size = 3, padding = 1)\n",
    "       \n",
    "        # Flatten the feature map to feed into fully connected layers\n",
    "        self.pool = nn.MaxPool2d(kernel_size = 2, stride = 2)\n",
    "        \n",
    "\n",
    "        # Fully connected layer: input 8*8*16 (== is the size of the flatten feature map), output 64\n",
    "        self.fc1 = nn.Linear(8 * 8 * 16, 64)\n",
    "        # Fully connected layer: input 64, output 32\n",
    "        self.fc2 = nn.Linear(64, 32)\n",
    "        # Fully connected layer: input 32, output 10 ( 10= number of classes, the number of classes for classification)\n",
    "        self.fc3 = nn.Linear(32, 10)\n",
    "\n",
    "\n",
    "        \n",
    "    def forward(self, x):\n",
    "        # First convolution -> ReLU -> Max pooling\n",
    "        # Applies the first convolutional layer to the input x\n",
    "        x = self.conv1(x) # (batch_size, 3, 32, 32) -> (batch_size, 8, 32, 32)\n",
    "        x = F.relu(x)\n",
    "        # Max pooling is applied, reducing the spatial dimensions by half.\n",
    "        x = self.pool(x)  # (batch_size, 8, 32, 32) -> (batch_size, 8, 16, 16)\n",
    "        \n",
    "        # Second convolution -> ReLU -> Max pooling\n",
    "        x = self.conv2(x) # (batch_size, 8, 16, 16) -> (batch_size, 16, 16, 16)\n",
    "        x = F.relu(x)\n",
    "        x = self.pool(x)  # (batch_size, 16, 16, 16) -> (batch_size, 16, 8, 8)\n",
    "\n",
    "        # Flatten the feature map to feed into fully connected layers\n",
    "        # The feature maps are flattened from (batch_size, 16, 8, 8) to (batch_size, 1024) to prepare for the fully connected layers.\n",
    "        x = x.view(-1, 8 * 8 * 16)\n",
    "        \n",
    "        # Fully connected layer -> ReLU\n",
    "        x = self.fc1(x)\n",
    "        x = F.relu(x)\n",
    "        \n",
    "        # Fully connected layer -> ReLU\n",
    "        x = self.fc2(x)\n",
    "        x = F.relu(x)\n",
    "\n",
    "        # Final fully connected layer -> log_softmax\n",
    "        x = self.fc3(x)\n",
    "        # F.log_softmax is applied to the output, ensuring it operates along the correct dimension (dim=1), which is the class dimension.\n",
    "        out = F.log_softmax(x)\n",
    "        return out"
   ]
  },
  {
   "cell_type": "markdown",
   "id": "a09680ee",
   "metadata": {},
   "source": [
    "## CNN 모델 Class (2)"
   ]
  },
  {
   "cell_type": "code",
   "execution_count": 9,
   "id": "0bf8124e",
   "metadata": {},
   "outputs": [],
   "source": [
    "''' 7. Convolutional Neural Network(CNN) 모델 설계하기 (2) '''\n",
    "class CNN2(nn.Module):\n",
    "    def __init__(self):\n",
    "        super(CNN2, self).__init__()\n",
    "        \n",
    "        self.feature_layer = nn.Sequential(\n",
    "            nn.Conv2d(in_channels = 3, out_channels = 8, kernel_size = 3, padding = 1),\n",
    "            nn.ReLU(),\n",
    "            nn.MaxPool2d(kernel_size = 2, stride = 2),\n",
    "            \n",
    "            nn.Conv2d(in_channels = 8, out_channels = 16, kernel_size = 3, padding = 1),\n",
    "            nn.ReLU(),\n",
    "            nn.MaxPool2d(kernel_size = 2, stride = 2)\n",
    "        )\n",
    "        \n",
    "        self.fc_layer = nn.Sequential(\n",
    "            # The fc_layer consists of three Fully Connected layers with ReLU activations in between.\n",
    "            nn.Linear(1024, 64),\n",
    "            nn.ReLU(),\n",
    "            nn.Linear(64, 32),\n",
    "            nn.ReLU(),\n",
    "            nn.Linear(32, 10)\n",
    "        )\n",
    "        \n",
    "        \n",
    "    def forward(self, x):\n",
    "        # Pass through the feature extraction layers\n",
    "        x = self.feature_layer(x)\n",
    "\n",
    "        x = x.view(-1, 1024)\n",
    "        \n",
    "        x = self.fc_layer(x)\n",
    "        out = F.log_softmax(x)\n",
    "        return out"
   ]
  },
  {
   "cell_type": "code",
   "execution_count": 10,
   "id": "3a3d012c",
   "metadata": {},
   "outputs": [
    {
     "name": "stdout",
     "output_type": "stream",
     "text": [
      "CNN(\n",
      "  (conv1): Conv2d(3, 8, kernel_size=(3, 3), stride=(1, 1), padding=(1, 1))\n",
      "  (conv2): Conv2d(8, 16, kernel_size=(3, 3), stride=(1, 1), padding=(1, 1))\n",
      "  (pool): MaxPool2d(kernel_size=2, stride=2, padding=0, dilation=1, ceil_mode=False)\n",
      "  (fc1): Linear(in_features=1024, out_features=64, bias=True)\n",
      "  (fc2): Linear(in_features=64, out_features=32, bias=True)\n",
      "  (fc3): Linear(in_features=32, out_features=10, bias=True)\n",
      ")\n"
     ]
    }
   ],
   "source": [
    "# 생성한 모델 확인\n",
    "model = CNN().to(DEVICE)\n",
    "print(model)"
   ]
  },
  {
   "cell_type": "markdown",
   "id": "21f1382c",
   "metadata": {},
   "source": [
    "#### Optimizer, Objective Function 설정"
   ]
  },
  {
   "cell_type": "code",
   "execution_count": 11,
   "id": "6f2df856",
   "metadata": {},
   "outputs": [],
   "source": [
    "''' 8. Optimizer, Objective Function 설정하기 '''\n",
    "# The Adam optimizer is used to update the model's parameters based on the gradients computed during backpropagation.\n",
    "optimizer = torch.optim.Adam(model.parameters(), lr = 0.001)\n",
    "# Loss Function: nn.CrossEntropyLoss(This loss function combines nn.LogSoftmax() and nn.NLLLoss() in one single class.)\n",
    "criterion = nn.CrossEntropyLoss()"
   ]
  },
  {
   "cell_type": "markdown",
   "id": "b73492df",
   "metadata": {},
   "source": [
    "#### 모델 학습 및 학습 데이터의 성능 확인하는 `train` 함수 정의"
   ]
  },
  {
   "cell_type": "code",
   "execution_count": 12,
   "id": "6113bc01",
   "metadata": {},
   "outputs": [],
   "source": [
    "''' 9. CNN 모델 학습을 진행하며 학습 데이터에 대한 모델 성능을 확인하는 함수 정의 '''\n",
    "def train(model, train_loader, optimizer, log_interval):\n",
    "    model.train() # Set the model to training mode                \n",
    "    for batch_idx, (image, label) in enumerate(train_loader):\n",
    "        image = image.to(DEVICE) # Move input data to the specified device\n",
    "        label = label.to(DEVICE) # Move labels to the specified device\n",
    "        optimizer.zero_grad()           # Zero the gradients for the optimizer(Optimizer의 기울기를 0으로 초기화)\n",
    "        # Forward pass(순전파)\n",
    "        output = model(image)\n",
    "        \n",
    "        # 역전파 및 옵티마이저 스텝(손실 계산)\n",
    "        loss = criterion(output, label) # CrossEntropy를 이용해 Loss값 계산\n",
    "        \n",
    "        # Backward pass and optimization (역전파 및 옵티마이저 스텝)\n",
    "        loss.backward()\n",
    "        optimizer.step()\n",
    "\n",
    "        if batch_idx % log_interval == 0:\n",
    "            print(\"Train Epoch: {} [{}/{} ({:.0f}%)]\\tTrain Loss: {:.6f}\".format(\n",
    "                epoch, batch_idx * len(image), \n",
    "                len(train_loader.dataset), 100. * batch_idx / len(train_loader), \n",
    "                loss.item()))"
   ]
  },
  {
   "cell_type": "markdown",
   "id": "7a4279a8",
   "metadata": {},
   "source": [
    "#### 검증 데이터의 성능 확인하는 `evaluate` 함수 정의"
   ]
  },
  {
   "cell_type": "code",
   "execution_count": 13,
   "id": "66ffcb74",
   "metadata": {},
   "outputs": [],
   "source": [
    "''' 10. 학습되는 과정 속에서 검증 데이터에 대한 모델 성능을 확인하는 함수 정의 '''\n",
    "def evaluate(model, test_loader):\n",
    "    model.eval()                          # Set the model to evaluation mode (평가 상태로 지정)\n",
    "    test_loss = 0\n",
    "    correct = 0                           # Variable to keep track of the number of correct predictions(올바른 Class로 평가했는지 알아보기 위해 임의 변수 설정)\n",
    "\n",
    "    with torch.no_grad():                 # Disable gradient calculation to save memory and computations(Gradient를 통해 파라미터 값들이 업데이트되는 현상 방지)\n",
    "        for image, label in test_loader:\n",
    "            image = image.to(DEVICE)\n",
    "            label = label.to(DEVICE)\n",
    "            output = model(image)       # Get model predictions\n",
    "            test_loss += criterion(output, label).item()                     # Accumulate the loss(test_loss값, 즉 현재 배치에 대한 손실을 계산하고 이를 누적합니다.)\n",
    "            prediction = output.max(1, keepdim = True)[1]                    # Get the index of the max log-probability(두 번째 차원을 따라 최대 값을 갖는 인덱스(즉, 예측 클래스)를 얻습니다.)\n",
    "            correct += prediction.eq(label.view_as(prediction)).sum().item() # Count correct predictions (예측 클래스와 실제 레이블 클래스 비교하여 올바른 예측 수를 셉니다)\n",
    "    \n",
    "    test_loss /= (len(test_loader.dataset) / BATCH_SIZE) # Calculate the average loss(평균 손실을 계산)\n",
    "    test_accuracy = 100. * correct / len(test_loader.dataset)   # Calculate the accuracy(정확도를 계산)\n",
    "    return test_loss, test_accuracy"
   ]
  },
  {
   "cell_type": "markdown",
   "id": "1aff86bf",
   "metadata": {},
   "source": [
    "#### 학습 실행 및 Loss와 Accuracy 확인"
   ]
  },
  {
   "cell_type": "code",
   "execution_count": 14,
   "id": "7d42b278",
   "metadata": {
    "scrolled": true
   },
   "outputs": [
    {
     "name": "stdout",
     "output_type": "stream",
     "text": [
      "Train Epoch: 1 [0/50000 (0%)]\tTrain Loss: 2.310983\n",
      "Train Epoch: 1 [12800/50000 (26%)]\tTrain Loss: 1.924593\n",
      "Train Epoch: 1 [25600/50000 (51%)]\tTrain Loss: 1.771134\n",
      "Train Epoch: 1 [38400/50000 (77%)]\tTrain Loss: 1.615945\n",
      "\n",
      "[EPOCH: 1], \tTest Loss: 1.6214, \tTest Accuracy: 42.34 % \n",
      "\n",
      "Train Epoch: 2 [0/50000 (0%)]\tTrain Loss: 1.490496\n",
      "Train Epoch: 2 [12800/50000 (26%)]\tTrain Loss: 1.412606\n",
      "Train Epoch: 2 [25600/50000 (51%)]\tTrain Loss: 1.522511\n",
      "Train Epoch: 2 [38400/50000 (77%)]\tTrain Loss: 1.429622\n",
      "\n",
      "[EPOCH: 2], \tTest Loss: 1.4681, \tTest Accuracy: 46.81 % \n",
      "\n",
      "Train Epoch: 3 [0/50000 (0%)]\tTrain Loss: 1.461622\n",
      "Train Epoch: 3 [12800/50000 (26%)]\tTrain Loss: 1.379593\n",
      "Train Epoch: 3 [25600/50000 (51%)]\tTrain Loss: 1.415710\n",
      "Train Epoch: 3 [38400/50000 (77%)]\tTrain Loss: 1.391008\n",
      "\n",
      "[EPOCH: 3], \tTest Loss: 1.3721, \tTest Accuracy: 51.23 % \n",
      "\n",
      "Train Epoch: 4 [0/50000 (0%)]\tTrain Loss: 1.454861\n",
      "Train Epoch: 4 [12800/50000 (26%)]\tTrain Loss: 1.278789\n",
      "Train Epoch: 4 [25600/50000 (51%)]\tTrain Loss: 1.384327\n",
      "Train Epoch: 4 [38400/50000 (77%)]\tTrain Loss: 1.456445\n",
      "\n",
      "[EPOCH: 4], \tTest Loss: 1.3019, \tTest Accuracy: 53.98 % \n",
      "\n",
      "Train Epoch: 5 [0/50000 (0%)]\tTrain Loss: 1.276867\n",
      "Train Epoch: 5 [12800/50000 (26%)]\tTrain Loss: 1.383023\n",
      "Train Epoch: 5 [25600/50000 (51%)]\tTrain Loss: 1.202766\n",
      "Train Epoch: 5 [38400/50000 (77%)]\tTrain Loss: 1.314990\n",
      "\n",
      "[EPOCH: 5], \tTest Loss: 1.2425, \tTest Accuracy: 56.48 % \n",
      "\n",
      "Train Epoch: 6 [0/50000 (0%)]\tTrain Loss: 1.312594\n",
      "Train Epoch: 6 [12800/50000 (26%)]\tTrain Loss: 1.126368\n",
      "Train Epoch: 6 [25600/50000 (51%)]\tTrain Loss: 1.305294\n",
      "Train Epoch: 6 [38400/50000 (77%)]\tTrain Loss: 1.200043\n",
      "\n",
      "[EPOCH: 6], \tTest Loss: 1.1995, \tTest Accuracy: 58.10 % \n",
      "\n",
      "Train Epoch: 7 [0/50000 (0%)]\tTrain Loss: 0.984737\n",
      "Train Epoch: 7 [12800/50000 (26%)]\tTrain Loss: 1.121634\n",
      "Train Epoch: 7 [25600/50000 (51%)]\tTrain Loss: 1.054550\n",
      "Train Epoch: 7 [38400/50000 (77%)]\tTrain Loss: 1.178276\n",
      "\n",
      "[EPOCH: 7], \tTest Loss: 1.2009, \tTest Accuracy: 57.85 % \n",
      "\n",
      "Train Epoch: 8 [0/50000 (0%)]\tTrain Loss: 1.157808\n",
      "Train Epoch: 8 [12800/50000 (26%)]\tTrain Loss: 1.117101\n",
      "Train Epoch: 8 [25600/50000 (51%)]\tTrain Loss: 1.073985\n",
      "Train Epoch: 8 [38400/50000 (77%)]\tTrain Loss: 1.033023\n",
      "\n",
      "[EPOCH: 8], \tTest Loss: 1.1575, \tTest Accuracy: 59.32 % \n",
      "\n",
      "Train Epoch: 9 [0/50000 (0%)]\tTrain Loss: 1.158017\n",
      "Train Epoch: 9 [12800/50000 (26%)]\tTrain Loss: 1.139272\n",
      "Train Epoch: 9 [25600/50000 (51%)]\tTrain Loss: 1.123307\n",
      "Train Epoch: 9 [38400/50000 (77%)]\tTrain Loss: 1.162349\n",
      "\n",
      "[EPOCH: 9], \tTest Loss: 1.1251, \tTest Accuracy: 60.50 % \n",
      "\n",
      "Train Epoch: 10 [0/50000 (0%)]\tTrain Loss: 1.026833\n",
      "Train Epoch: 10 [12800/50000 (26%)]\tTrain Loss: 1.097119\n",
      "Train Epoch: 10 [25600/50000 (51%)]\tTrain Loss: 1.055596\n",
      "Train Epoch: 10 [38400/50000 (77%)]\tTrain Loss: 1.026466\n",
      "\n",
      "[EPOCH: 10], \tTest Loss: 1.1098, \tTest Accuracy: 61.72 % \n",
      "\n"
     ]
    }
   ],
   "source": [
    "''' 11. CNN 학습을 실행하며 Train, Test set의 Loss 및 Test set Accuracy 확인하기 '''\n",
    "# 각 에포크(epoch)마다 모델을 훈련시키고 평가하는 과정\n",
    "for epoch in range(1, TRN_EPOCHS + 1):\n",
    "    train(model, train_loader, optimizer, log_interval = 100)   # Execute the defined train function(정의한 train함수 실행)\n",
    "    test_loss, test_accuracy = evaluate(model, test_loader)     # Calculate the loss and accuracy for each epoch(각 Epoch별로 출력되는 Loss값과 Accuracy 값 계산)\n",
    "    print(\"\\n[EPOCH: {}], \\tTest Loss: {:.4f}, \\tTest Accuracy: {:.2f} % \\n\".format(\n",
    "        epoch, test_loss, test_accuracy))"
   ]
  },
  {
   "cell_type": "markdown",
   "id": "b62539ba",
   "metadata": {},
   "source": [
    "<span style='color:navy; font-size:18px'>  **Data Augmentation 기법 적용해보며 모델 성능 비교해보기** </span>\n",
    "\n",
    "> Data Augmentation : https://pytorch.org/vision/stable/transforms.html#geometry"
   ]
  },
  {
   "cell_type": "markdown",
   "id": "075aeda5",
   "metadata": {},
   "source": [
    "Data Augmentation 적용 전 Accuracy: 61.72%"
   ]
  },
  {
   "cell_type": "code",
   "execution_count": null,
   "id": "dd2b2984",
   "metadata": {},
   "outputs": [],
   "source": [
    "'''\n",
    "# transforms.RandomHorizontalFlip()\n",
    "# Test Accuracy: 65.12% \n",
    "train_dataset = datasets.CIFAR10(root = \"../data/CIFAR_10\",\n",
    "                                 train = True,\n",
    "                                 download = True,\n",
    "                                 transform = transforms.Compose([transforms.RandomHorizontalFlip(),\n",
    "                                                                 transforms.ToTensor(),\n",
    "                                                                 transforms.Normalize((0.5, 0.5, 0.5), (0.5, 0.5, 0.5))]))\n",
    "'''"
   ]
  },
  {
   "cell_type": "code",
   "execution_count": null,
   "id": "3f2b0744",
   "metadata": {},
   "outputs": [],
   "source": [
    "'''\n",
    "# RandomRotation\n",
    "# Test Accuracy: 66.04% \n",
    "train_dataset = datasets.CIFAR10(root = \"../data/CIFAR_10\",\n",
    "                                 train = True,\n",
    "                                 download = True,\n",
    "                                 transform = transforms.Compose([transforms.RandomRotation(45),\n",
    "                                                                 transforms.ToTensor(),\n",
    "                                                                 transforms.Normalize((0.5, 0.5, 0.5), (0.5, 0.5, 0.5))]))\n",
    "\n",
    "'''"
   ]
  },
  {
   "cell_type": "code",
   "execution_count": null,
   "id": "4a0a1335",
   "metadata": {},
   "outputs": [],
   "source": [
    "'''\n",
    "# transforms.RandomResizedCrop\n",
    "# Test Accuracy: 66.14% \n",
    "train_dataset = datasets.CIFAR10(root=\"../data/CIFAR_10\",\n",
    "                                 train=True,\n",
    "                                 download=True,\n",
    "                                 transform=transforms.Compose([transforms.RandomResizedCrop(32, scale=(0.08, 2.0)),\n",
    "                                                               transforms.ToTensor(),\n",
    "                                                               transforms.Normalize((0.5, 0.5, 0.5), (0.5, 0.5, 0.5))]))\n",
    "'''"
   ]
  },
  {
   "cell_type": "code",
   "execution_count": null,
   "id": "702a49a2",
   "metadata": {},
   "outputs": [],
   "source": [
    "'''\n",
    "#앞에서 실습한 세 기법을 모두 적용\n",
    "# Test Accuracy: 64.40 %\n",
    "train_dataset = datasets.CIFAR10(root=\"../data/CIFAR_10\",\n",
    "                                 train=True, # Specifies that this dataset is for training\n",
    "                                 download=True, # Download the dataset if it's not already present\n",
    "                                 transform=transforms.Compose([# Randomly crop the image to 32x32 with a scale from 0.08 to 2.0 of the original size\n",
    "                                                               transforms.RandomResizedCrop(32, scale=(0.08, 2.0)),\n",
    "                                                               # Randomly rotate the image up to 45 degrees\n",
    "                                                               transforms.RandomRotation(45), \n",
    "                                                               transforms.RandomHorizontalFlip(),\n",
    "                                                               transforms.ToTensor(),\n",
    "                                                               # Normalizes the image by setting the mean to 0.5 and standard deviation to 0.5 for each channel (R, G, B). This centers the pixel values around 0 and scales them to have a standard deviation of 1.\n",
    "                                                               transforms.Normalize((0.5, 0.5, 0.5), (0.5, 0.5, 0.5))]))\n",
    "'''"
   ]
  }
 ],
 "metadata": {
  "kernelspec": {
   "display_name": "Python 3 (ipykernel)",
   "language": "python",
   "name": "python3"
  },
  "language_info": {
   "codemirror_mode": {
    "name": "ipython",
    "version": 3
   },
   "file_extension": ".py",
   "mimetype": "text/x-python",
   "name": "python",
   "nbconvert_exporter": "python",
   "pygments_lexer": "ipython3",
   "version": "3.12.3"
  }
 },
 "nbformat": 4,
 "nbformat_minor": 5
}
